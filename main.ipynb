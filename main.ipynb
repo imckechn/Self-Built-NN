{
 "cells": [
  {
   "attachments": {},
   "cell_type": "markdown",
   "metadata": {},
   "source": [
    "# Building a Neural Net From Scratch to Predict MNIST Handwritten Digits"
   ]
  },
  {
   "attachments": {},
   "cell_type": "markdown",
   "metadata": {},
   "source": [
    "The Imports"
   ]
  },
  {
   "cell_type": "code",
   "execution_count": 1,
   "metadata": {},
   "outputs": [],
   "source": [
    "import pandas as pd\n",
    "import random\n",
    "import math"
   ]
  },
  {
   "attachments": {},
   "cell_type": "markdown",
   "metadata": {},
   "source": [
    "Import the data"
   ]
  },
  {
   "cell_type": "code",
   "execution_count": 2,
   "metadata": {},
   "outputs": [],
   "source": [
    "def importData(sources):\n",
    "    data = []\n",
    "\n",
    "    for source in sources:\n",
    "        dat = pd.read_csv(source)\n",
    "        data += dat.values.tolist()\n",
    "\n",
    "    return data\n",
    "\n",
    "def trainValTestSplit(data, trainSize, valSize):\n",
    "\n",
    "    train = data[:int(trainSize*len(data))]\n",
    "    val = data[int(trainSize*len(data)):int((trainSize+valSize)*len(data))]\n",
    "    test = data[int((trainSize+valSize)*len(data)):]\n",
    "\n",
    "    return train, val, test\n"
   ]
  },
  {
   "cell_type": "code",
   "execution_count": 3,
   "metadata": {},
   "outputs": [],
   "source": [
    "class Connection:\n",
    "    def __init__(self, previousPerceptron, nextPerceptron, weight = 1):\n",
    "        self.weight = weight\n",
    "        self.previousPerceptron = previousPerceptron\n",
    "        self.nextPerceptron = nextPerceptron\n",
    "\n",
    "    def updateWeight(self, delta):\n",
    "        self.weight += delta\n",
    "\n",
    "    def getWeight(self):\n",
    "        return self.weight\n",
    "\n",
    "    def getPreviousPerceptron(self):\n",
    "        return self.previousPerceptron.getOutput()"
   ]
  },
  {
   "cell_type": "code",
   "execution_count": 4,
   "metadata": {},
   "outputs": [],
   "source": [
    "class Perceptron:\n",
    "\n",
    "    #Create the perceptron, only takes in it's bias\n",
    "    def __init__(self, bias = 1):\n",
    "        self.bias = bias\n",
    "        self.backwardsConnections = []\n",
    "        self.forwardsConnections = []\n",
    "        self.output = 0\n",
    "\n",
    "\n",
    "    #This method is used to add a forward connection to the perceptron\n",
    "    def addForwardsConnection(self, connection):\n",
    "        self.forwardsConnections.append(connection)\n",
    "\n",
    "\n",
    "    #This takes in the layer before it and creates connections to all of the perceptrons in that layer\n",
    "    # The connections are made of connection objects which just contain the node before it, the node after it, and the weight\n",
    "    # The previous layer is a list of perceptrons\n",
    "    def makeConnections(self, previousLayer):\n",
    "        for perceptron in previousLayer:\n",
    "            connection = Connection(perceptron, self)\n",
    "            perceptron.addForwardsConnection(connection)\n",
    "\n",
    "            self.backwardsConnections.append(connection)\n",
    "\n",
    "\n",
    "    #This method returns the output of the perceptron\n",
    "    def getOutput(self):\n",
    "        return self.output\n",
    "\n",
    "\n",
    "    #The activation function is a sigmoid function\n",
    "    def activationFunction(self, value):\n",
    "        return 1/(1+math.exp(-value))\n",
    "\n",
    "\n",
    "    #This is the function that is called to calculate the output of the perceptron\n",
    "    #Loops through all the back connections it has and gets the output of the previous perceptron and multiplies it by the weight\n",
    "    #Then adds the bias and uses the activation function\n",
    "    #Stores the output in the output variable\n",
    "    def findOutput(self):\n",
    "        value = 0\n",
    "\n",
    "        #The sum of all the weights times the output of the previous perceptron\n",
    "        for connection in self.backwardsConnections:\n",
    "            value += connection.getWeight() * connection.previousPerceptron.getOutput()\n",
    "\n",
    "        #Add the bias\n",
    "        value += self.bias\n",
    "\n",
    "        #Use the activation function\n",
    "        self.output = self.activationFunction(value)\n",
    "\n",
    "\n",
    "    #Updates the bias of the perceptron\n",
    "    def updateBias(self, delta):\n",
    "        self.bias += delta\n",
    "\n",
    "    #For the input layer it needs to be given the first value\n",
    "    def giveOutput(self, value):\n",
    "        self.output = value\n",
    "\n",
    "    def __repr(self):\n",
    "        output = \"Bias: \" + str(self.bias) \\\n",
    "            + \" Output: \" + str(self.output) \\\n",
    "            + \" Backwards Connections: \" \\\n",
    "            + str(self.backwardsConnections) \\\n",
    "            + \" Forwards Connections: \" \\\n",
    "            + str(self.forwardsConnections)\n",
    "        return output\n",
    "\n",
    "\n",
    "    def __str__(self):\n",
    "        output = \"Bias: \" + str(self.bias) \\\n",
    "            + \" Output: \" + str(self.output) \\\n",
    "            + \" Backwards Connections: \" \\\n",
    "            + str(self.backwardsConnections) \\\n",
    "            + \" Forwards Connections: \" \\\n",
    "            + str(self.forwardsConnections)\n",
    "        return output\n"
   ]
  },
  {
   "attachments": {},
   "cell_type": "markdown",
   "metadata": {},
   "source": [
    "Going to make a 1 by 1 by 1 NN for testing"
   ]
  },
  {
   "cell_type": "code",
   "execution_count": 5,
   "metadata": {},
   "outputs": [],
   "source": [
    "layer1 = [Perceptron(), Perceptron(), Perceptron()]\n",
    "layer2 = [Perceptron(), Perceptron(), Perceptron(), Perceptron()]\n",
    "layer3 = [Perceptron(), Perceptron()]\n",
    "\n",
    "NN = [layer1, layer2, layer3]\n",
    "\n",
    "# print(\"First Perceptron\")\n",
    "# print(layer1[0])\n",
    "\n",
    "for perceptron in layer2:\n",
    "    perceptron.makeConnections(layer1)\n",
    "\n",
    "# set connections for the third layer\n",
    "for perceptron in layer3:\n",
    "    perceptron.makeConnections(layer2)\n",
    "\n",
    "# print(\"first Perceptron after connections\")\n",
    "# print(layer1[0])\n",
    "\n",
    "# print(\"second Perceptron after connections\")\n",
    "# print(layer2[0])\n",
    "\n",
    "# print(\"third Perceptron after connections\")\n",
    "# print(layer3[0])"
   ]
  },
  {
   "cell_type": "code",
   "execution_count": 6,
   "metadata": {},
   "outputs": [
    {
     "name": "stdout",
     "output_type": "stream",
     "text": [
      "input: [6, 7, 3]\n",
      "Output:\n",
      "0.9933071479748135\n",
      "0.9933071479748135\n"
     ]
    }
   ],
   "source": [
    "\n",
    "\n",
    "# set connections for the second layer\n",
    "\n",
    "#Input will be random for now\n",
    "input = [int(random.random()*10) for i in range(len(layer1))]\n",
    "\n",
    "print(\"input: \" + str(input))\n",
    "\n",
    "\n",
    "for i in range(len(NN)):\n",
    "    if i == 0:\n",
    "        if len(input) != len(NN[i]):\n",
    "            print(\"Error: Input size does not match input layer size\")\n",
    "            break\n",
    "        else:\n",
    "            for j in range(len(NN[i])):\n",
    "                NN[i][j].giveOutput(input[j])\n",
    "\n",
    "    else:\n",
    "        for perceptron in NN[i]:\n",
    "            perceptron.findOutput()\n",
    "\n",
    "\n",
    "print(\"Output:\")\n",
    "\n",
    "for i in range(len(layer3)):\n",
    "    print(layer3[i].getOutput())\n",
    "\n",
    "\n"
   ]
  },
  {
   "attachments": {},
   "cell_type": "markdown",
   "metadata": {},
   "source": [
    "## Build the Neural Network"
   ]
  },
  {
   "cell_type": "code",
   "execution_count": 12,
   "metadata": {},
   "outputs": [],
   "source": [
    "class NeuralNetwork:\n",
    "    def __init__(self, shape):\n",
    "        self.layers = []\n",
    "\n",
    "        #Build the network\n",
    "        for i in range(len(shape)):\n",
    "            layer = []\n",
    "\n",
    "            for i in range(shape[i]):\n",
    "                layer.append(Perceptron())\n",
    "\n",
    "            self.layers.append(layer)\n",
    "\n",
    "\n",
    "        #Connect the layers\n",
    "        for i in range(1, len(self.layers)):\n",
    "            for perceptron in self.layers[i]:\n",
    "                perceptron.makeConnections(self.layers[i-1])\n",
    "\n",
    "\n",
    "    def feedForward(self, input):\n",
    "        if len(input) != len(self.layers[0]):\n",
    "            print(\"Error: Input size does not match input layer size\")\n",
    "            return\n",
    "\n",
    "        for i in range(len(self.layers)):\n",
    "            if i == 0:\n",
    "                for j in range(len(self.layers[i])):\n",
    "                    self.layers[i][j].giveOutput(input[j])\n",
    "\n",
    "            else:\n",
    "                for perceptron in self.layers[i]:\n",
    "                    perceptron.findOutput()\n",
    "\n",
    "        output = []\n",
    "\n",
    "        for perceptron in self.layers[-1]:\n",
    "            output.append(perceptron.getOutput())\n",
    "\n",
    "\n",
    "    def getOutput(self):\n",
    "        output = []\n",
    "\n",
    "        for perceptron in self.layers[-1]:\n",
    "            output.append(perceptron.getOutput())\n",
    "\n",
    "        return output\n",
    "\n",
    "\n",
    "    def costFunction(self, expected, actual):\n",
    "        cost = 0\n",
    "\n",
    "        for i in range(len(expected)):\n",
    "            cost += (expected[i] - actual[i])**2\n",
    "\n",
    "        return cost\n",
    "\n"
   ]
  },
  {
   "attachments": {},
   "cell_type": "markdown",
   "metadata": {},
   "source": [
    "testing area"
   ]
  },
  {
   "cell_type": "code",
   "execution_count": 15,
   "metadata": {},
   "outputs": [
    {
     "name": "stdout",
     "output_type": "stream",
     "text": [
      "Cost = \n",
      "0.9866559966227291\n"
     ]
    }
   ],
   "source": [
    "nn = NeuralNetwork([3, 4, 2])\n",
    "\n",
    "nn.feedForward([1, 2, 3])\n",
    "\n",
    "ans = [0, 1]\n",
    "\n",
    "print(\"Cost = \")\n",
    "print(nn.costFunction(ans, nn.getOutput()))"
   ]
  }
 ],
 "metadata": {
  "kernelspec": {
   "display_name": "Python 3",
   "language": "python",
   "name": "python3"
  },
  "language_info": {
   "codemirror_mode": {
    "name": "ipython",
    "version": 3
   },
   "file_extension": ".py",
   "mimetype": "text/x-python",
   "name": "python",
   "nbconvert_exporter": "python",
   "pygments_lexer": "ipython3",
   "version": "3.11.2"
  },
  "orig_nbformat": 4
 },
 "nbformat": 4,
 "nbformat_minor": 2
}
