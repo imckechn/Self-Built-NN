{
 "cells": [
  {
   "attachments": {},
   "cell_type": "markdown",
   "metadata": {},
   "source": [
    "# Building a Neural Net From Scratch to Predict MNIST Handwritten Digits"
   ]
  },
  {
   "attachments": {},
   "cell_type": "markdown",
   "metadata": {},
   "source": [
    "The Imports"
   ]
  },
  {
   "cell_type": "code",
   "execution_count": 1,
   "metadata": {},
   "outputs": [],
   "source": [
    "import pandas as pd"
   ]
  },
  {
   "attachments": {},
   "cell_type": "markdown",
   "metadata": {},
   "source": [
    "Import the data"
   ]
  },
  {
   "cell_type": "code",
   "execution_count": 2,
   "metadata": {},
   "outputs": [],
   "source": [
    "def importData(sources):\n",
    "    data = []\n",
    "\n",
    "    for source in sources:\n",
    "        dat = pd.read_csv(source)\n",
    "        data += dat.values.tolist()\n",
    "\n",
    "    return data\n",
    "\n",
    "def trainValTestSplit(data, trainSize, valSize):\n",
    "\n",
    "    train = data[:int(trainSize*len(data))]\n",
    "    val = data[int(trainSize*len(data)):int((trainSize+valSize)*len(data))]\n",
    "    test = data[int((trainSize+valSize)*len(data)):]\n",
    "\n",
    "    return train, val, test\n"
   ]
  },
  {
   "cell_type": "code",
   "execution_count": 3,
   "metadata": {},
   "outputs": [],
   "source": [
    "# ----- MAIN ------\n",
    "\n",
    "#Import the data and split it into train, validation and test sets\n",
    "data = importData(['archive/mnist_test.csv', 'archive/mnist_train.csv'])\n",
    "train, val, test = trainValTestSplit(data, 0.6, 0.2)\n"
   ]
  }
 ],
 "metadata": {
  "kernelspec": {
   "display_name": "Python 3",
   "language": "python",
   "name": "python3"
  },
  "language_info": {
   "codemirror_mode": {
    "name": "ipython",
    "version": 3
   },
   "file_extension": ".py",
   "mimetype": "text/x-python",
   "name": "python",
   "nbconvert_exporter": "python",
   "pygments_lexer": "ipython3",
   "version": "3.11.2"
  },
  "orig_nbformat": 4
 },
 "nbformat": 4,
 "nbformat_minor": 2
}
