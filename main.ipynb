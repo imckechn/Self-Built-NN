{
 "cells": [
  {
   "attachments": {},
   "cell_type": "markdown",
   "metadata": {},
   "source": [
    "# Building a Neural Net From Scratch to Predict MNIST Handwritten Digits"
   ]
  },
  {
   "attachments": {},
   "cell_type": "markdown",
   "metadata": {},
   "source": [
    "The Imports"
   ]
  },
  {
   "cell_type": "code",
   "execution_count": 11,
   "metadata": {},
   "outputs": [],
   "source": [
    "import pandas as pd\n",
    "import random\n",
    "import math"
   ]
  },
  {
   "attachments": {},
   "cell_type": "markdown",
   "metadata": {},
   "source": [
    "Import the data"
   ]
  },
  {
   "cell_type": "code",
   "execution_count": 12,
   "metadata": {},
   "outputs": [],
   "source": [
    "def importData(sources):\n",
    "    data = []\n",
    "\n",
    "    for source in sources:\n",
    "        dat = pd.read_csv(source)\n",
    "        data += dat.values.tolist()\n",
    "\n",
    "    return data\n",
    "\n",
    "def trainValTestSplit(data, trainSize, valSize):\n",
    "\n",
    "    train = data[:int(trainSize*len(data))]\n",
    "    val = data[int(trainSize*len(data)):int((trainSize+valSize)*len(data))]\n",
    "    test = data[int((trainSize+valSize)*len(data)):]\n",
    "\n",
    "    return train, val, test\n"
   ]
  },
  {
   "cell_type": "code",
   "execution_count": 13,
   "metadata": {},
   "outputs": [],
   "source": [
    "class Connection:\n",
    "    def __init__(self, weight, previousPerceptron, nextPerceptron):\n",
    "        self.weight = weight\n",
    "        self.previousPerceptron = previousPerceptron\n",
    "        self.nextPerceptron = nextPerceptron\n",
    "\n",
    "    def updateWeight(self, delta):\n",
    "        self.weight += delta\n",
    "\n",
    "    def getWeight(self):\n",
    "        return self.weight\n",
    "\n",
    "    def getPreviousPerceptron(self):\n",
    "        return self.previousPerceptron.getOutput()"
   ]
  },
  {
   "cell_type": "code",
   "execution_count": 34,
   "metadata": {},
   "outputs": [],
   "source": [
    "class Perceptrion:\n",
    "\n",
    "    #Create the perceptron, only takes in it's bias\n",
    "    def __init__(self, bias):\n",
    "        self.bias = bias\n",
    "        self.backwardsConnections = []\n",
    "        self.forwardsConnections = []\n",
    "        self.output = 0\n",
    "\n",
    "\n",
    "    #This method is used to add a forward connection to the perceptron\n",
    "    def addForwardsConnection(self, connection):\n",
    "        self.forwardsConnections.append(connection)\n",
    "\n",
    "\n",
    "    #This takes in the layer before it and creates connections to all of the perceptrons in that layer\n",
    "    # The connections are made of connection objects which just contain the node before it, the node after it, and the weight\n",
    "    # The previous layer is a list of perceptrons\n",
    "    def getConnections(self, previousLayer):\n",
    "        for perceptron in previousLayer:\n",
    "            print(\"Loops\")\n",
    "            connection = Connection(random.random(), perceptron, self)\n",
    "            perceptron.addForwardsConnection(connection)\n",
    "\n",
    "            self.backwardsConnections.append(connection)\n",
    "\n",
    "\n",
    "    #This method returns the output of the perceptron\n",
    "    def getOutput(self):\n",
    "        return self.output\n",
    "\n",
    "\n",
    "    #The activation function is a sigmoid function\n",
    "    def activationFunction(self, value):\n",
    "        return 1/(1+math.exp(-value))\n",
    "\n",
    "\n",
    "    #This is the function that is called to calculate the output of the perceptron\n",
    "    #Loops through all the back connections it has and gets the output of the previous perceptron and multiplies it by the weight\n",
    "    #Then adds the bias and uses the activation function\n",
    "    #Stores the output in the output variable\n",
    "    def findOutput(self):\n",
    "        value = 0\n",
    "\n",
    "        #The sum of all the weights times the output of the previous perceptron\n",
    "        for connection in self.backwardsConnections:\n",
    "            value += connection.getWeight() * connection.previousPerceptron.getOutput()\n",
    "\n",
    "        #Add the bias\n",
    "        value += self.bias\n",
    "\n",
    "        #Use the activation function\n",
    "        self.output = self.activationFunction(value)\n",
    "\n",
    "\n",
    "    #Updates the bias of the perceptron\n",
    "    def updateBias(self, delta):\n",
    "        self.bias += delta\n",
    "\n",
    "    #For the input layer it needs to be given the first value\n",
    "    def giveOutput(self, value):\n",
    "        self.output = value\n",
    "\n",
    "    def __repr(self):\n",
    "        output = \"Bias: \" + str(self.bias) \\\n",
    "            + \" Output: \" + str(self.output) \\\n",
    "            + \" Backwards Connections: \" \\\n",
    "            + str(self.backwardsConnections) \\\n",
    "            + \" Forwards Connections: \" \\\n",
    "            + str(self.forwardsConnections)\n",
    "        return output\n",
    "\n",
    "\n",
    "    def __str__(self):\n",
    "        output = \"Bias: \" + str(self.bias) \\\n",
    "            + \" Output: \" + str(self.output) \\\n",
    "            + \" Backwards Connections: \" \\\n",
    "            + str(self.backwardsConnections) \\\n",
    "            + \" Forwards Connections: \" \\\n",
    "            + str(self.forwardsConnections)\n",
    "        return output\n"
   ]
  },
  {
   "attachments": {},
   "cell_type": "markdown",
   "metadata": {},
   "source": [
    "Going to make a 1 by 1 by 1 NN for testing"
   ]
  },
  {
   "cell_type": "code",
   "execution_count": 35,
   "metadata": {},
   "outputs": [
    {
     "name": "stdout",
     "output_type": "stream",
     "text": [
      "Loops\n",
      "Loops\n",
      "first Perceptron after connections\n",
      "Bias: 1 Output: 0 Backwards Connections: [] Forwards Connections: [<__main__.Connection object at 0x124b76910>]\n",
      "second Perceptron after connections\n",
      "Bias: 1 Output: 0 Backwards Connections: [<__main__.Connection object at 0x124b76910>] Forwards Connections: [<__main__.Connection object at 0x124b74210>]\n",
      "third Perceptron after connections\n",
      "Bias: 1 Output: 0 Backwards Connections: [<__main__.Connection object at 0x124b74210>] Forwards Connections: []\n"
     ]
    }
   ],
   "source": [
    "layer1 = [Perceptrion(1)]\n",
    "layer2 = [Perceptrion(1)]\n",
    "layer3 = [Perceptrion(1)]\n",
    "\n",
    "NN = [layer1, layer2, layer3]\n",
    "\n",
    "# print(\"First perceptrion\")\n",
    "# print(layer1[0])\n",
    "\n",
    "for perceptron in layer2:\n",
    "    perceptron.getConnections(layer1)\n",
    "\n",
    "# set connections for the third layer\n",
    "for perceptron in layer3:\n",
    "    perceptron.getConnections(layer2)\n",
    "\n",
    "print(\"first Perceptron after connections\")\n",
    "print(layer1[0])\n",
    "\n",
    "print(\"second Perceptron after connections\")\n",
    "print(layer2[0])\n",
    "\n",
    "print(\"third Perceptron after connections\")\n",
    "print(layer3[0])"
   ]
  },
  {
   "cell_type": "code",
   "execution_count": 19,
   "metadata": {},
   "outputs": [
    {
     "name": "stdout",
     "output_type": "stream",
     "text": [
      "first Perceptron after connections\n",
      "Bias: 1 Output: 1 Backwards Connections: [] Forwards Connections: [<__main__.Connection object at 0x124a12950>, <__main__.Connection object at 0x111119750>]\n",
      "LAYER 0\n",
      "LAYER 0\n",
      "LAYER 0\n",
      "Output:\n",
      "0.8771227683343052\n"
     ]
    }
   ],
   "source": [
    "\n",
    "\n",
    "# set connections for the second layer\n",
    "\n",
    "#Input will be *1*\n",
    "input = [1]\n",
    "\n",
    "for i in range(len(NN)):\n",
    "    print(\"LAYER 0\")\n",
    "    if i == 0:\n",
    "        if len(input) != len(NN[i]):\n",
    "            print(\"Error: Input size does not match input layer size\")\n",
    "            break\n",
    "        else:\n",
    "            for j in range(len(NN[i])):\n",
    "                NN[i][j].giveOutput(input[j])\n",
    "\n",
    "    else:\n",
    "        for perceptron in NN[i]:\n",
    "            perceptron.findOutput()\n",
    "\n",
    "\n",
    "print(\"Output:\")\n",
    "print(layer3[0].getOutput())\n",
    "\n",
    "\n"
   ]
  },
  {
   "cell_type": "code",
   "execution_count": 17,
   "metadata": {},
   "outputs": [
    {
     "ename": "SyntaxError",
     "evalue": "incomplete input (2860586623.py, line 4)",
     "output_type": "error",
     "traceback": [
      "\u001b[0;36m  Cell \u001b[0;32mIn[17], line 4\u001b[0;36m\u001b[0m\n\u001b[0;31m    \u001b[0m\n\u001b[0m    ^\u001b[0m\n\u001b[0;31mSyntaxError\u001b[0m\u001b[0;31m:\u001b[0m incomplete input\n"
     ]
    }
   ],
   "source": [
    "class NeuralNetwork:\n",
    "    def __init__(self, shape):\n",
    "        for layer in shape:\n",
    "            "
   ]
  },
  {
   "cell_type": "code",
   "execution_count": null,
   "metadata": {},
   "outputs": [],
   "source": [
    "# ----- MAIN ------\n",
    "\n",
    "#Import the data and split it into train, validation and test sets\n",
    "data = importData(['archive/mnist_test.csv', 'archive/mnist_train.csv'])\n",
    "train, val, test = trainValTestSplit(data, 0.6, 0.2)\n"
   ]
  }
 ],
 "metadata": {
  "kernelspec": {
   "display_name": "Python 3",
   "language": "python",
   "name": "python3"
  },
  "language_info": {
   "codemirror_mode": {
    "name": "ipython",
    "version": 3
   },
   "file_extension": ".py",
   "mimetype": "text/x-python",
   "name": "python",
   "nbconvert_exporter": "python",
   "pygments_lexer": "ipython3",
   "version": "3.11.2"
  },
  "orig_nbformat": 4
 },
 "nbformat": 4,
 "nbformat_minor": 2
}
